{
 "cells": [
  {
   "cell_type": "code",
   "execution_count": 141,
   "metadata": {
    "collapsed": false
   },
   "outputs": [],
   "source": [
    "%matplotlib notebook\n",
    "import pandas as pd\n",
    "import matplotlib.pyplot as plt\n",
    "from scipy import ndimage\n",
    "import numpy as np\n",
    "import glob\n",
    "import re\n",
    "import os"
   ]
  },
  {
   "cell_type": "code",
   "execution_count": 142,
   "metadata": {
    "collapsed": false
   },
   "outputs": [],
   "source": [
    "files = glob.glob('data/images/*')\n",
    "imageSizes = []\n",
    "\n",
    "for f in files:\n",
    "    m = re.search('data/images/(\\d+).jpg', f)\n",
    "    imageId = int(m.group(1))\n",
    "    img = ndimage.imread(f)\n",
    "    imageSizes.append([imageId, img.shape[0],img.shape[1]])\n",
    "    \n",
    "imageSizes = pd.DataFrame(imageSizes, columns=['id', 'width', 'height'])\n",
    "imageSizes.set_index('id', inplace=True)"
   ]
  },
  {
   "cell_type": "code",
   "execution_count": 143,
   "metadata": {
    "collapsed": false
   },
   "outputs": [],
   "source": [
    "if not os.path.exists('trainingData.p'):\n",
    "    train = pd.read_csv('data/train.csv', index_col=0, dtype='object')\n",
    "\n",
    "    trainData = []\n",
    "\n",
    "    marginCols = ['margin{0}'.format(i) for i in range(1, 65)]\n",
    "    textureCols = ['texture{0}'.format(i) for i in range(1, 65)]\n",
    "    shapeCols = ['shape{0}'.format(i) for i in range(1, 65)]\n",
    "\n",
    "    ## Generate one hot encoding for species\n",
    "    classNames = sorted(np.unique(train['species']))\n",
    "    numClasses = len(classNames)\n",
    "    labelMap = {k:i for i,k in enumerate(classNames)}\n",
    "\n",
    "    def downsampleByTwo(img):\n",
    "        tmp = np.array(img)\n",
    "        # if the number of rows is odd, pad with a row of zeros\n",
    "        if (tmp.shape[0] & 0x01):\n",
    "            tmp = np.vstack([tmp, np.zeros((1, tmp.shape[1]))])\n",
    "\n",
    "        if (tmp.shape[1] & 0x01):\n",
    "            tmp = np.hstack([tmp, np.zeros((tmp.shape[0], 1))])\n",
    "\n",
    "        ret = np.zeros(np.array(tmp.shape) / 2)\n",
    "\n",
    "        for i in range(tmp.shape[0]):\n",
    "            for j in range(tmp.shape[1]):\n",
    "                ret[i/2,j/2] = .25 * tmp[i,j]\n",
    "\n",
    "        return ret\n",
    "\n",
    "    def preprocessImage(img):\n",
    "        blurred = ndimage.gaussian_filter(img, 3)    \n",
    "        ds = downsampleByTwo(blurred)\n",
    "        ds = downsampleByTwo(ds)\n",
    "        ds = downsampleByTwo(ds)\n",
    "        return ds\n",
    "\n",
    "    columnGroups = [marginCols, textureCols, shapeCols]\n",
    "    for r in train.iterrows():\n",
    "        caseId = r[0]\n",
    "        trainData.append([])\n",
    "        # Generate one hot encoding for species\n",
    "        oneHot = np.zeros((numClasses,))\n",
    "        oneHot[labelMap[r[1]['species']]] = 1.0\n",
    "        trainData[-1].append(oneHot)\n",
    "\n",
    "        for col in columnGroups:\n",
    "            curr = r[1][col]\n",
    "            trainData[-1].append(np.array(curr))\n",
    "\n",
    "        img = ndimage.imread('data/images/{0}.jpg'.format(caseId)) / 255.0\n",
    "        img = preprocessImage(img)\n",
    "        trainData[-1].append(img)\n",
    "        trainData[-1].append(img.shape[0])\n",
    "        trainData[-1].append(img.shape[1])\n",
    "    trainData = pd.DataFrame(trainData, columns=['oneHot', 'margin', 'textureCols', 'shape', 'img', 'width', 'height'])\n",
    "    pd.to_pickle(trainData, 'trainingData.p')\n",
    "else:\n",
    "    trainData = pd.read_pickle('trainingData.p')"
   ]
  },
  {
   "cell_type": "code",
   "execution_count": 149,
   "metadata": {
    "collapsed": false
   },
   "outputs": [],
   "source": [
    "maxWidth = np.max(trainData['width'])\n",
    "maxHeight = np.max(trainData['height'])\n",
    "\n",
    "normImgSize = maxWidth * 2, maxHeight * 2\n"
   ]
  },
  {
   "cell_type": "code",
   "execution_count": 150,
   "metadata": {
    "collapsed": false
   },
   "outputs": [
    {
     "data": {
      "text/plain": [
       "(274, 410)"
      ]
     },
     "execution_count": 150,
     "metadata": {},
     "output_type": "execute_result"
    }
   ],
   "source": [
    "normImgSize"
   ]
  },
  {
   "cell_type": "code",
   "execution_count": null,
   "metadata": {
    "collapsed": true
   },
   "outputs": [],
   "source": []
  }
 ],
 "metadata": {
  "kernelspec": {
   "display_name": "Python 2",
   "language": "python",
   "name": "python2"
  },
  "language_info": {
   "codemirror_mode": {
    "name": "ipython",
    "version": 2
   },
   "file_extension": ".py",
   "mimetype": "text/x-python",
   "name": "python",
   "nbconvert_exporter": "python",
   "pygments_lexer": "ipython2",
   "version": "2.7.11"
  }
 },
 "nbformat": 4,
 "nbformat_minor": 2
}
